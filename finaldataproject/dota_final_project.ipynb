{
 "cells": [
  {
   "cell_type": "code",
   "execution_count": 9,
   "metadata": {
    "scrolled": false
   },
   "outputs": [
    {
     "name": "stdout",
     "output_type": "stream",
     "text": [
      "3CA293064B9ECCDC101642C75CCD74DE\n"
     ]
    }
   ],
   "source": [
    "import requests\n",
    "import json\n",
    "\n",
    "with open(\"key.txt\", 'r') as f:\n",
    "    key = f.read()\n",
    "print(key)"
   ]
  },
  {
   "cell_type": "code",
   "execution_count": 14,
   "metadata": {
    "scrolled": true
   },
   "outputs": [],
   "source": [
    "def retrieve_recent_match_data(key, start_at=None):\n",
    "    if start_at is None:\n",
    "        r = requests.get(\"https://api.steampowered.com/IDOTA2Match_570/GetMatchHistory/V001/?key=\" + key)\n",
    "        if r.status_code != 200:\n",
    "            raise Exception(\"Servers might be down\")\n",
    "        else:\n",
    "            return json.loads(r.text)\n",
    "    else:\n",
    "        r = requests.get(\"https://api.steampowered.com/IDOTA2Match_570/GetMatchHistory/V001/?start_at_match_id=\" + str(start_at) + \"&key=\" + key)\n",
    "        if r.status_code != 200:\n",
    "            raise Exception(\"Either match id was bad or servers might be down\")\n",
    "        else:\n",
    "            return json.loads(r.text)\n",
    "        "
   ]
  },
  {
   "cell_type": "code",
   "execution_count": null,
   "metadata": {
    "collapsed": true
   },
   "outputs": [],
   "source": [
    "private_id = 4294967295 #players that we can not get info from\n",
    "unique_id = Set([])\n",
    "recent = None\n",
    "while len(unique_id) < 30000:\n",
    "    matches = "
   ]
  }
 ],
 "metadata": {
  "kernelspec": {
   "display_name": "Python 3",
   "language": "python",
   "name": "python3"
  },
  "language_info": {
   "codemirror_mode": {
    "name": "ipython",
    "version": 3
   },
   "file_extension": ".py",
   "mimetype": "text/x-python",
   "name": "python",
   "nbconvert_exporter": "python",
   "pygments_lexer": "ipython3",
   "version": "3.6.3"
  }
 },
 "nbformat": 4,
 "nbformat_minor": 2
}
