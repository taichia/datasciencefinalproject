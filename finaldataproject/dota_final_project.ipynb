{
 "cells": [
  {
   "cell_type": "code",
   "execution_count": 11,
   "metadata": {
    "scrolled": false
   },
   "outputs": [
    {
     "name": "stdout",
     "output_type": "stream",
     "text": [
      "3CA293064B9ECCDC101642C75CCD74DE\n"
     ]
    }
   ],
   "source": [
    "import requests\n",
    "import json\n",
    "import time\n",
    "\n",
    "with open(\"key.txt\", 'r') as f:\n",
    "    key = f.read()\n",
    "print(key)"
   ]
  },
  {
   "cell_type": "code",
   "execution_count": 13,
   "metadata": {
    "scrolled": true
   },
   "outputs": [],
   "source": [
    "#This will only get us recent 500 matches\n",
    "def retrieve_recent_match_data(key, start_at=None):\n",
    "    if start_at is None:\n",
    "        r = requests.get(\"https://api.steampowered.com/IDOTA2Match_570/GetMatchHistory/V001/?key=\" + key)\n",
    "        if r.status_code != 200:\n",
    "            raise Exception(\"Servers might be down\")\n",
    "        else:\n",
    "            return json.loads(r.text)\n",
    "    else:\n",
    "        r = requests.get(\"https://api.steampowered.com/IDOTA2Match_570/GetMatchHistory/V001/?start_at_match_id=\" \n",
    "                         + str(start_at) + \"&key=\" + key)\n",
    "        if r.status_code != 200:\n",
    "            raise Exception(\"Either match id was bad or servers might be down\")\n",
    "        else:\n",
    "            return json.loads(r.text)"
   ]
  },
  {
   "cell_type": "code",
   "execution_count": 19,
   "metadata": {},
   "outputs": [
    {
     "name": "stdout",
     "output_type": "stream",
     "text": [
      "295\n",
      "634\n",
      "983\n",
      "1337\n",
      "1630\n"
     ]
    }
   ],
   "source": [
    "private_id = 4294967295 #players that we can not get info from\n",
    "unique_id = set([])\n",
    "least_recent = None\n",
    "leave_loop = False\n",
    "while len(unique_id) < 30000 and leave_loop is False:\n",
    "    matches = retrieve_recent_match_data(key, start_at = least_recent)\n",
    "    if matches['result']['results_remaining'] == 0:\n",
    "        leave_loop = True\n",
    "    for m in matches['result']['matches']:\n",
    "        least_recent = m['match_id']\n",
    "        for p in m['players']:\n",
    "            if 'account_id' in p and p['account_id'] != private_id:\n",
    "                unique_id.add(p['account_id'])\n",
    "    time.sleep(0.9)\n",
    "    print(len(unique_id))"
   ]
  },
  {
   "cell_type": "code",
   "execution_count": null,
   "metadata": {},
   "outputs": [],
   "source": [
    "def find_player_recent_match("
   ]
  },
  {
   "cell_type": "code",
   "execution_count": null,
   "metadata": {
    "collapsed": true
   },
   "outputs": [],
   "source": []
  }
 ],
 "metadata": {
  "kernelspec": {
   "display_name": "Python 3",
   "language": "python",
   "name": "python3"
  },
  "language_info": {
   "codemirror_mode": {
    "name": "ipython",
    "version": 3
   },
   "file_extension": ".py",
   "mimetype": "text/x-python",
   "name": "python",
   "nbconvert_exporter": "python",
   "pygments_lexer": "ipython3",
   "version": "3.6.3"
  }
 },
 "nbformat": 4,
 "nbformat_minor": 2
}
